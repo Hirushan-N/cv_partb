{
 "cells": [
  {
   "cell_type": "code",
   "execution_count": 1,
   "id": "54fcd953-f6eb-4504-bdad-4cf61c8f126f",
   "metadata": {},
   "outputs": [
    {
     "name": "stdout",
     "output_type": "stream",
     "text": [
      "WARNING:tensorflow:From C:\\Users\\Asus\\miniconda3\\envs\\cv_partb\\lib\\site-packages\\keras\\src\\backend\\common\\global_state.py:82: The name tf.reset_default_graph is deprecated. Please use tf.compat.v1.reset_default_graph instead.\n",
      "\n"
     ]
    }
   ],
   "source": [
    "import tensorflow as tf\n",
    "tf.keras.backend.clear_session()"
   ]
  },
  {
   "cell_type": "code",
   "execution_count": 2,
   "id": "2cbbc8d3-0b7d-47f2-81d2-fd19994dadfa",
   "metadata": {},
   "outputs": [
    {
     "name": "stdout",
     "output_type": "stream",
     "text": [
      "PROJECT_ROOT: C:\\cv_partb\n",
      "DATA_DIR: C:\\cv_partb\\data\n",
      "Found 4636 files belonging to 4 classes.\n",
      "Found 993 files belonging to 4 classes.\n",
      "Found 997 files belonging to 4 classes.\n"
     ]
    },
    {
     "data": {
      "text/plain": [
       "(['Tomato_Bacterial_spot',\n",
       "  'Tomato_Early_blight',\n",
       "  'Tomato_Late_blight',\n",
       "  'Tomato_healthy'],\n",
       " 4)"
      ]
     },
     "execution_count": 2,
     "metadata": {},
     "output_type": "execute_result"
    }
   ],
   "source": [
    "import os, json, numpy as np\n",
    "import tensorflow as tf\n",
    "from sklearn.metrics import classification_report, confusion_matrix\n",
    "import matplotlib.pyplot as plt, seaborn as sns\n",
    "\n",
    "cwd = os.getcwd()\n",
    "PROJECT_ROOT = os.path.dirname(cwd) if os.path.basename(cwd).lower()==\"notebooks\" else cwd\n",
    "\n",
    "DATA_DIR = os.path.join(PROJECT_ROOT, \"data\")\n",
    "OUT_DIR  = os.path.join(PROJECT_ROOT, \"outputs\")\n",
    "FIG_DIR  = os.path.join(OUT_DIR, \"figures\"); os.makedirs(FIG_DIR, exist_ok=True)\n",
    "MET_DIR  = os.path.join(OUT_DIR, \"metrics\"); os.makedirs(MET_DIR, exist_ok=True)\n",
    "CKPT_DIR = os.path.join(OUT_DIR, \"checkpoints\"); os.makedirs(CKPT_DIR, exist_ok=True)\n",
    "\n",
    "IMG_SIZE   = (224, 224)\n",
    "BATCH_SIZE = 32   # if you hit memory issues, set to 16\n",
    "SEED       = 42\n",
    "\n",
    "print(\"PROJECT_ROOT:\", PROJECT_ROOT)\n",
    "print(\"DATA_DIR:\", DATA_DIR)\n",
    "\n",
    "train_ds = tf.keras.utils.image_dataset_from_directory(\n",
    "    os.path.join(DATA_DIR,\"train\"),\n",
    "    image_size=IMG_SIZE, batch_size=BATCH_SIZE,\n",
    "    label_mode=\"categorical\", seed=SEED, shuffle=True\n",
    ")\n",
    "val_ds = tf.keras.utils.image_dataset_from_directory(\n",
    "    os.path.join(DATA_DIR,\"val\"),\n",
    "    image_size=IMG_SIZE, batch_size=BATCH_SIZE,\n",
    "    label_mode=\"categorical\", seed=SEED, shuffle=False\n",
    ")\n",
    "test_ds = tf.keras.utils.image_dataset_from_directory(\n",
    "    os.path.join(DATA_DIR,\"test\"),\n",
    "    image_size=IMG_SIZE, batch_size=BATCH_SIZE,\n",
    "    label_mode=\"categorical\", seed=SEED, shuffle=False\n",
    ")\n",
    "\n",
    "class_names = train_ds.class_names\n",
    "num_classes = len(class_names)\n",
    "class_names, num_classes\n"
   ]
  },
  {
   "cell_type": "code",
   "execution_count": 3,
   "id": "8dbd32f7-5c4d-467d-92ab-6afc3ae0e20f",
   "metadata": {},
   "outputs": [],
   "source": [
    "AUTOTUNE = tf.data.AUTOTUNE\n",
    "\n",
    "def prep(ds, training=False):\n",
    "    if training:\n",
    "        return ds.cache().shuffle(1000).prefetch(AUTOTUNE)\n",
    "    else:\n",
    "        return ds.cache().prefetch(AUTOTUNE)\n",
    "\n",
    "train_prep = prep(train_ds, training=True)\n",
    "val_prep   = prep(val_ds,   training=False)\n",
    "test_prep  = prep(test_ds,  training=False)\n"
   ]
  },
  {
   "cell_type": "code",
   "execution_count": 4,
   "id": "f31ea547-3a4c-441b-abc8-fb91ae0845fc",
   "metadata": {},
   "outputs": [
    {
     "data": {
      "text/html": [
       "<pre style=\"white-space:pre;overflow-x:auto;line-height:normal;font-family:Menlo,'DejaVu Sans Mono',consolas,'Courier New',monospace\"><span style=\"font-weight: bold\">Model: \"functional_1\"</span>\n",
       "</pre>\n"
      ],
      "text/plain": [
       "\u001b[1mModel: \"functional_1\"\u001b[0m\n"
      ]
     },
     "metadata": {},
     "output_type": "display_data"
    },
    {
     "data": {
      "text/html": [
       "<pre style=\"white-space:pre;overflow-x:auto;line-height:normal;font-family:Menlo,'DejaVu Sans Mono',consolas,'Courier New',monospace\">┏━━━━━━━━━━━━━━━━━━━━━━━━━━━━━━━━━━━━━━┳━━━━━━━━━━━━━━━━━━━━━━━━━━━━━┳━━━━━━━━━━━━━━━━━┓\n",
       "┃<span style=\"font-weight: bold\"> Layer (type)                         </span>┃<span style=\"font-weight: bold\"> Output Shape                </span>┃<span style=\"font-weight: bold\">         Param # </span>┃\n",
       "┡━━━━━━━━━━━━━━━━━━━━━━━━━━━━━━━━━━━━━━╇━━━━━━━━━━━━━━━━━━━━━━━━━━━━━╇━━━━━━━━━━━━━━━━━┩\n",
       "│ input_layer_1 (<span style=\"color: #0087ff; text-decoration-color: #0087ff\">InputLayer</span>)           │ (<span style=\"color: #00d7ff; text-decoration-color: #00d7ff\">None</span>, <span style=\"color: #00af00; text-decoration-color: #00af00\">224</span>, <span style=\"color: #00af00; text-decoration-color: #00af00\">224</span>, <span style=\"color: #00af00; text-decoration-color: #00af00\">3</span>)         │               <span style=\"color: #00af00; text-decoration-color: #00af00\">0</span> │\n",
       "├──────────────────────────────────────┼─────────────────────────────┼─────────────────┤\n",
       "│ sequential (<span style=\"color: #0087ff; text-decoration-color: #0087ff\">Sequential</span>)              │ (<span style=\"color: #00d7ff; text-decoration-color: #00d7ff\">None</span>, <span style=\"color: #00af00; text-decoration-color: #00af00\">224</span>, <span style=\"color: #00af00; text-decoration-color: #00af00\">224</span>, <span style=\"color: #00af00; text-decoration-color: #00af00\">3</span>)         │               <span style=\"color: #00af00; text-decoration-color: #00af00\">0</span> │\n",
       "├──────────────────────────────────────┼─────────────────────────────┼─────────────────┤\n",
       "│ true_divide (<span style=\"color: #0087ff; text-decoration-color: #0087ff\">TrueDivide</span>)             │ (<span style=\"color: #00d7ff; text-decoration-color: #00d7ff\">None</span>, <span style=\"color: #00af00; text-decoration-color: #00af00\">224</span>, <span style=\"color: #00af00; text-decoration-color: #00af00\">224</span>, <span style=\"color: #00af00; text-decoration-color: #00af00\">3</span>)         │               <span style=\"color: #00af00; text-decoration-color: #00af00\">0</span> │\n",
       "├──────────────────────────────────────┼─────────────────────────────┼─────────────────┤\n",
       "│ subtract (<span style=\"color: #0087ff; text-decoration-color: #0087ff\">Subtract</span>)                  │ (<span style=\"color: #00d7ff; text-decoration-color: #00d7ff\">None</span>, <span style=\"color: #00af00; text-decoration-color: #00af00\">224</span>, <span style=\"color: #00af00; text-decoration-color: #00af00\">224</span>, <span style=\"color: #00af00; text-decoration-color: #00af00\">3</span>)         │               <span style=\"color: #00af00; text-decoration-color: #00af00\">0</span> │\n",
       "├──────────────────────────────────────┼─────────────────────────────┼─────────────────┤\n",
       "│ mobilenetv2_1.00_224 (<span style=\"color: #0087ff; text-decoration-color: #0087ff\">Functional</span>)    │ (<span style=\"color: #00d7ff; text-decoration-color: #00d7ff\">None</span>, <span style=\"color: #00af00; text-decoration-color: #00af00\">7</span>, <span style=\"color: #00af00; text-decoration-color: #00af00\">7</span>, <span style=\"color: #00af00; text-decoration-color: #00af00\">1280</span>)          │       <span style=\"color: #00af00; text-decoration-color: #00af00\">2,257,984</span> │\n",
       "├──────────────────────────────────────┼─────────────────────────────┼─────────────────┤\n",
       "│ global_average_pooling2d             │ (<span style=\"color: #00d7ff; text-decoration-color: #00d7ff\">None</span>, <span style=\"color: #00af00; text-decoration-color: #00af00\">1280</span>)                │               <span style=\"color: #00af00; text-decoration-color: #00af00\">0</span> │\n",
       "│ (<span style=\"color: #0087ff; text-decoration-color: #0087ff\">GlobalAveragePooling2D</span>)             │                             │                 │\n",
       "├──────────────────────────────────────┼─────────────────────────────┼─────────────────┤\n",
       "│ dropout (<span style=\"color: #0087ff; text-decoration-color: #0087ff\">Dropout</span>)                    │ (<span style=\"color: #00d7ff; text-decoration-color: #00d7ff\">None</span>, <span style=\"color: #00af00; text-decoration-color: #00af00\">1280</span>)                │               <span style=\"color: #00af00; text-decoration-color: #00af00\">0</span> │\n",
       "├──────────────────────────────────────┼─────────────────────────────┼─────────────────┤\n",
       "│ dense (<span style=\"color: #0087ff; text-decoration-color: #0087ff\">Dense</span>)                        │ (<span style=\"color: #00d7ff; text-decoration-color: #00d7ff\">None</span>, <span style=\"color: #00af00; text-decoration-color: #00af00\">4</span>)                   │           <span style=\"color: #00af00; text-decoration-color: #00af00\">5,124</span> │\n",
       "└──────────────────────────────────────┴─────────────────────────────┴─────────────────┘\n",
       "</pre>\n"
      ],
      "text/plain": [
       "┏━━━━━━━━━━━━━━━━━━━━━━━━━━━━━━━━━━━━━━┳━━━━━━━━━━━━━━━━━━━━━━━━━━━━━┳━━━━━━━━━━━━━━━━━┓\n",
       "┃\u001b[1m \u001b[0m\u001b[1mLayer (type)                        \u001b[0m\u001b[1m \u001b[0m┃\u001b[1m \u001b[0m\u001b[1mOutput Shape               \u001b[0m\u001b[1m \u001b[0m┃\u001b[1m \u001b[0m\u001b[1m        Param #\u001b[0m\u001b[1m \u001b[0m┃\n",
       "┡━━━━━━━━━━━━━━━━━━━━━━━━━━━━━━━━━━━━━━╇━━━━━━━━━━━━━━━━━━━━━━━━━━━━━╇━━━━━━━━━━━━━━━━━┩\n",
       "│ input_layer_1 (\u001b[38;5;33mInputLayer\u001b[0m)           │ (\u001b[38;5;45mNone\u001b[0m, \u001b[38;5;34m224\u001b[0m, \u001b[38;5;34m224\u001b[0m, \u001b[38;5;34m3\u001b[0m)         │               \u001b[38;5;34m0\u001b[0m │\n",
       "├──────────────────────────────────────┼─────────────────────────────┼─────────────────┤\n",
       "│ sequential (\u001b[38;5;33mSequential\u001b[0m)              │ (\u001b[38;5;45mNone\u001b[0m, \u001b[38;5;34m224\u001b[0m, \u001b[38;5;34m224\u001b[0m, \u001b[38;5;34m3\u001b[0m)         │               \u001b[38;5;34m0\u001b[0m │\n",
       "├──────────────────────────────────────┼─────────────────────────────┼─────────────────┤\n",
       "│ true_divide (\u001b[38;5;33mTrueDivide\u001b[0m)             │ (\u001b[38;5;45mNone\u001b[0m, \u001b[38;5;34m224\u001b[0m, \u001b[38;5;34m224\u001b[0m, \u001b[38;5;34m3\u001b[0m)         │               \u001b[38;5;34m0\u001b[0m │\n",
       "├──────────────────────────────────────┼─────────────────────────────┼─────────────────┤\n",
       "│ subtract (\u001b[38;5;33mSubtract\u001b[0m)                  │ (\u001b[38;5;45mNone\u001b[0m, \u001b[38;5;34m224\u001b[0m, \u001b[38;5;34m224\u001b[0m, \u001b[38;5;34m3\u001b[0m)         │               \u001b[38;5;34m0\u001b[0m │\n",
       "├──────────────────────────────────────┼─────────────────────────────┼─────────────────┤\n",
       "│ mobilenetv2_1.00_224 (\u001b[38;5;33mFunctional\u001b[0m)    │ (\u001b[38;5;45mNone\u001b[0m, \u001b[38;5;34m7\u001b[0m, \u001b[38;5;34m7\u001b[0m, \u001b[38;5;34m1280\u001b[0m)          │       \u001b[38;5;34m2,257,984\u001b[0m │\n",
       "├──────────────────────────────────────┼─────────────────────────────┼─────────────────┤\n",
       "│ global_average_pooling2d             │ (\u001b[38;5;45mNone\u001b[0m, \u001b[38;5;34m1280\u001b[0m)                │               \u001b[38;5;34m0\u001b[0m │\n",
       "│ (\u001b[38;5;33mGlobalAveragePooling2D\u001b[0m)             │                             │                 │\n",
       "├──────────────────────────────────────┼─────────────────────────────┼─────────────────┤\n",
       "│ dropout (\u001b[38;5;33mDropout\u001b[0m)                    │ (\u001b[38;5;45mNone\u001b[0m, \u001b[38;5;34m1280\u001b[0m)                │               \u001b[38;5;34m0\u001b[0m │\n",
       "├──────────────────────────────────────┼─────────────────────────────┼─────────────────┤\n",
       "│ dense (\u001b[38;5;33mDense\u001b[0m)                        │ (\u001b[38;5;45mNone\u001b[0m, \u001b[38;5;34m4\u001b[0m)                   │           \u001b[38;5;34m5,124\u001b[0m │\n",
       "└──────────────────────────────────────┴─────────────────────────────┴─────────────────┘\n"
      ]
     },
     "metadata": {},
     "output_type": "display_data"
    },
    {
     "data": {
      "text/html": [
       "<pre style=\"white-space:pre;overflow-x:auto;line-height:normal;font-family:Menlo,'DejaVu Sans Mono',consolas,'Courier New',monospace\"><span style=\"font-weight: bold\"> Total params: </span><span style=\"color: #00af00; text-decoration-color: #00af00\">2,263,108</span> (8.63 MB)\n",
       "</pre>\n"
      ],
      "text/plain": [
       "\u001b[1m Total params: \u001b[0m\u001b[38;5;34m2,263,108\u001b[0m (8.63 MB)\n"
      ]
     },
     "metadata": {},
     "output_type": "display_data"
    },
    {
     "data": {
      "text/html": [
       "<pre style=\"white-space:pre;overflow-x:auto;line-height:normal;font-family:Menlo,'DejaVu Sans Mono',consolas,'Courier New',monospace\"><span style=\"font-weight: bold\"> Trainable params: </span><span style=\"color: #00af00; text-decoration-color: #00af00\">5,124</span> (20.02 KB)\n",
       "</pre>\n"
      ],
      "text/plain": [
       "\u001b[1m Trainable params: \u001b[0m\u001b[38;5;34m5,124\u001b[0m (20.02 KB)\n"
      ]
     },
     "metadata": {},
     "output_type": "display_data"
    },
    {
     "data": {
      "text/html": [
       "<pre style=\"white-space:pre;overflow-x:auto;line-height:normal;font-family:Menlo,'DejaVu Sans Mono',consolas,'Courier New',monospace\"><span style=\"font-weight: bold\"> Non-trainable params: </span><span style=\"color: #00af00; text-decoration-color: #00af00\">2,257,984</span> (8.61 MB)\n",
       "</pre>\n"
      ],
      "text/plain": [
       "\u001b[1m Non-trainable params: \u001b[0m\u001b[38;5;34m2,257,984\u001b[0m (8.61 MB)\n"
      ]
     },
     "metadata": {},
     "output_type": "display_data"
    }
   ],
   "source": [
    "from tensorflow import keras\n",
    "from tensorflow.keras import layers\n",
    "\n",
    "data_aug = tf.keras.Sequential([\n",
    "    tf.keras.layers.RandomFlip(\"horizontal\"),\n",
    "    tf.keras.layers.RandomRotation(0.1),\n",
    "    tf.keras.layers.RandomZoom(0.05),\n",
    "    tf.keras.layers.RandomContrast(0.1),\n",
    "])\n",
    "\n",
    "preprocess = tf.keras.applications.mobilenet_v2.preprocess_input\n",
    "\n",
    "base = tf.keras.applications.MobileNetV2(\n",
    "    input_shape=(*IMG_SIZE, 3),\n",
    "    include_top=False,\n",
    "    weights=\"imagenet\"\n",
    ")\n",
    "base.trainable = False  # Phase 1\n",
    "\n",
    "inputs = keras.Input(shape=(*IMG_SIZE,3))\n",
    "x = data_aug(inputs) \n",
    "x = preprocess(x) \n",
    "x = base(x, training=False)\n",
    "x = layers.GlobalAveragePooling2D()(x)\n",
    "x = layers.Dropout(0.3)(x)\n",
    "outputs = layers.Dense(num_classes, activation=\"softmax\")(x)\n",
    "modelB = keras.Model(inputs, outputs)\n",
    "\n",
    "modelB.compile(\n",
    "    optimizer=keras.optimizers.Adam(1e-3),\n",
    "    loss=\"categorical_crossentropy\",\n",
    "    metrics=[\"accuracy\"]\n",
    ")\n",
    "modelB.summary()\n"
   ]
  },
  {
   "cell_type": "code",
   "execution_count": 5,
   "id": "f873c3cc-c11e-42e3-a31e-cc6f9801f01c",
   "metadata": {},
   "outputs": [
    {
     "name": "stdout",
     "output_type": "stream",
     "text": [
      "Epoch 1/10\n",
      "\u001b[1m145/145\u001b[0m \u001b[32m━━━━━━━━━━━━━━━━━━━━\u001b[0m\u001b[37m\u001b[0m \u001b[1m0s\u001b[0m 752ms/step - accuracy: 0.6433 - loss: 0.8704\n",
      "Epoch 1: val_accuracy improved from None to 0.86606, saving model to C:\\cv_partb\\outputs\\checkpoints\\modelB_phase1_best.keras\n",
      "\u001b[1m145/145\u001b[0m \u001b[32m━━━━━━━━━━━━━━━━━━━━\u001b[0m\u001b[37m\u001b[0m \u001b[1m142s\u001b[0m 933ms/step - accuracy: 0.7634 - loss: 0.6182 - val_accuracy: 0.8661 - val_loss: 0.3574\n",
      "Epoch 2/10\n",
      "\u001b[1m145/145\u001b[0m \u001b[32m━━━━━━━━━━━━━━━━━━━━\u001b[0m\u001b[37m\u001b[0m \u001b[1m0s\u001b[0m 749ms/step - accuracy: 0.8775 - loss: 0.3478\n",
      "Epoch 2: val_accuracy improved from 0.86606 to 0.90332, saving model to C:\\cv_partb\\outputs\\checkpoints\\modelB_phase1_best.keras\n",
      "\u001b[1m145/145\u001b[0m \u001b[32m━━━━━━━━━━━━━━━━━━━━\u001b[0m\u001b[37m\u001b[0m \u001b[1m129s\u001b[0m 891ms/step - accuracy: 0.8855 - loss: 0.3256 - val_accuracy: 0.9033 - val_loss: 0.2663\n",
      "Epoch 3/10\n",
      "\u001b[1m145/145\u001b[0m \u001b[32m━━━━━━━━━━━━━━━━━━━━\u001b[0m\u001b[37m\u001b[0m \u001b[1m0s\u001b[0m 782ms/step - accuracy: 0.9077 - loss: 0.2736\n",
      "Epoch 3: val_accuracy improved from 0.90332 to 0.91843, saving model to C:\\cv_partb\\outputs\\checkpoints\\modelB_phase1_best.keras\n",
      "\u001b[1m145/145\u001b[0m \u001b[32m━━━━━━━━━━━━━━━━━━━━\u001b[0m\u001b[37m\u001b[0m \u001b[1m134s\u001b[0m 923ms/step - accuracy: 0.9098 - loss: 0.2641 - val_accuracy: 0.9184 - val_loss: 0.2265\n",
      "Epoch 4/10\n",
      "\u001b[1m145/145\u001b[0m \u001b[32m━━━━━━━━━━━━━━━━━━━━\u001b[0m\u001b[37m\u001b[0m \u001b[1m0s\u001b[0m 771ms/step - accuracy: 0.9149 - loss: 0.2485\n",
      "Epoch 4: val_accuracy improved from 0.91843 to 0.92649, saving model to C:\\cv_partb\\outputs\\checkpoints\\modelB_phase1_best.keras\n",
      "\u001b[1m145/145\u001b[0m \u001b[32m━━━━━━━━━━━━━━━━━━━━\u001b[0m\u001b[37m\u001b[0m \u001b[1m134s\u001b[0m 926ms/step - accuracy: 0.9161 - loss: 0.2367 - val_accuracy: 0.9265 - val_loss: 0.2025\n",
      "Epoch 5/10\n",
      "\u001b[1m145/145\u001b[0m \u001b[32m━━━━━━━━━━━━━━━━━━━━\u001b[0m\u001b[37m\u001b[0m \u001b[1m0s\u001b[0m 755ms/step - accuracy: 0.9253 - loss: 0.2201\n",
      "Epoch 5: val_accuracy did not improve from 0.92649\n",
      "\u001b[1m145/145\u001b[0m \u001b[32m━━━━━━━━━━━━━━━━━━━━\u001b[0m\u001b[37m\u001b[0m \u001b[1m130s\u001b[0m 898ms/step - accuracy: 0.9275 - loss: 0.2152 - val_accuracy: 0.9174 - val_loss: 0.2054\n",
      "Epoch 6/10\n",
      "\u001b[1m145/145\u001b[0m \u001b[32m━━━━━━━━━━━━━━━━━━━━\u001b[0m\u001b[37m\u001b[0m \u001b[1m0s\u001b[0m 769ms/step - accuracy: 0.9336 - loss: 0.2015\n",
      "Epoch 6: val_accuracy did not improve from 0.92649\n",
      "\u001b[1m145/145\u001b[0m \u001b[32m━━━━━━━━━━━━━━━━━━━━\u001b[0m\u001b[37m\u001b[0m \u001b[1m131s\u001b[0m 907ms/step - accuracy: 0.9280 - loss: 0.2072 - val_accuracy: 0.9225 - val_loss: 0.2019\n",
      "Epoch 7/10\n",
      "\u001b[1m145/145\u001b[0m \u001b[32m━━━━━━━━━━━━━━━━━━━━\u001b[0m\u001b[37m\u001b[0m \u001b[1m0s\u001b[0m 779ms/step - accuracy: 0.9307 - loss: 0.2012\n",
      "Epoch 7: val_accuracy improved from 0.92649 to 0.93555, saving model to C:\\cv_partb\\outputs\\checkpoints\\modelB_phase1_best.keras\n",
      "\u001b[1m145/145\u001b[0m \u001b[32m━━━━━━━━━━━━━━━━━━━━\u001b[0m\u001b[37m\u001b[0m \u001b[1m133s\u001b[0m 922ms/step - accuracy: 0.9314 - loss: 0.1988 - val_accuracy: 0.9355 - val_loss: 0.1757\n",
      "Epoch 8/10\n",
      "\u001b[1m145/145\u001b[0m \u001b[32m━━━━━━━━━━━━━━━━━━━━\u001b[0m\u001b[37m\u001b[0m \u001b[1m0s\u001b[0m 743ms/step - accuracy: 0.9418 - loss: 0.1781\n",
      "Epoch 8: val_accuracy improved from 0.93555 to 0.93656, saving model to C:\\cv_partb\\outputs\\checkpoints\\modelB_phase1_best.keras\n",
      "\u001b[1m145/145\u001b[0m \u001b[32m━━━━━━━━━━━━━━━━━━━━\u001b[0m\u001b[37m\u001b[0m \u001b[1m128s\u001b[0m 881ms/step - accuracy: 0.9353 - loss: 0.1869 - val_accuracy: 0.9366 - val_loss: 0.1724\n",
      "Epoch 9/10\n",
      "\u001b[1m145/145\u001b[0m \u001b[32m━━━━━━━━━━━━━━━━━━━━\u001b[0m\u001b[37m\u001b[0m \u001b[1m0s\u001b[0m 741ms/step - accuracy: 0.9422 - loss: 0.1680\n",
      "Epoch 9: val_accuracy did not improve from 0.93656\n",
      "\u001b[1m145/145\u001b[0m \u001b[32m━━━━━━━━━━━━━━━━━━━━\u001b[0m\u001b[37m\u001b[0m \u001b[1m127s\u001b[0m 880ms/step - accuracy: 0.9415 - loss: 0.1718 - val_accuracy: 0.9295 - val_loss: 0.1807\n",
      "Epoch 10/10\n",
      "\u001b[1m145/145\u001b[0m \u001b[32m━━━━━━━━━━━━━━━━━━━━\u001b[0m\u001b[37m\u001b[0m \u001b[1m0s\u001b[0m 749ms/step - accuracy: 0.9277 - loss: 0.1942\n",
      "Epoch 10: val_accuracy improved from 0.93656 to 0.93857, saving model to C:\\cv_partb\\outputs\\checkpoints\\modelB_phase1_best.keras\n",
      "\u001b[1m145/145\u001b[0m \u001b[32m━━━━━━━━━━━━━━━━━━━━\u001b[0m\u001b[37m\u001b[0m \u001b[1m129s\u001b[0m 889ms/step - accuracy: 0.9295 - loss: 0.1917 - val_accuracy: 0.9386 - val_loss: 0.1700\n"
     ]
    }
   ],
   "source": [
    "ckptB1 = os.path.join(CKPT_DIR, \"modelB_phase1_best.keras\")\n",
    "callbacks1 = [\n",
    "    keras.callbacks.ModelCheckpoint(ckptB1, monitor=\"val_accuracy\", mode=\"max\",\n",
    "                                    save_best_only=True, verbose=1),\n",
    "    keras.callbacks.EarlyStopping(monitor=\"val_accuracy\", mode=\"max\",\n",
    "                                  patience=4, restore_best_weights=True),\n",
    "]\n",
    "\n",
    "hist1 = modelB.fit(\n",
    "    train_prep,\n",
    "    validation_data=val_prep,\n",
    "    epochs=10,\n",
    "    callbacks=callbacks1,\n",
    "    verbose=1\n",
    ")\n"
   ]
  },
  {
   "cell_type": "code",
   "execution_count": 6,
   "id": "05ee4555-57e1-4e76-95ad-777be523337a",
   "metadata": {},
   "outputs": [
    {
     "name": "stdout",
     "output_type": "stream",
     "text": [
      "Epoch 1/20\n",
      "\u001b[1m145/145\u001b[0m \u001b[32m━━━━━━━━━━━━━━━━━━━━\u001b[0m\u001b[37m\u001b[0m \u001b[1m0s\u001b[0m 1s/step - accuracy: 0.8580 - loss: 0.3964\n",
      "Epoch 1: val_accuracy improved from None to 0.89426, saving model to C:\\cv_partb\\outputs\\checkpoints\\modelB_phase2_best.keras\n",
      "\u001b[1m145/145\u001b[0m \u001b[32m━━━━━━━━━━━━━━━━━━━━\u001b[0m\u001b[37m\u001b[0m \u001b[1m185s\u001b[0m 1s/step - accuracy: 0.9180 - loss: 0.2331 - val_accuracy: 0.8943 - val_loss: 0.2741\n",
      "Epoch 2/20\n",
      "\u001b[1m145/145\u001b[0m \u001b[32m━━━━━━━━━━━━━━━━━━━━\u001b[0m\u001b[37m\u001b[0m \u001b[1m0s\u001b[0m 1s/step - accuracy: 0.9665 - loss: 0.1007\n",
      "Epoch 2: val_accuracy improved from 0.89426 to 0.89728, saving model to C:\\cv_partb\\outputs\\checkpoints\\modelB_phase2_best.keras\n",
      "\u001b[1m145/145\u001b[0m \u001b[32m━━━━━━━━━━━━━━━━━━━━\u001b[0m\u001b[37m\u001b[0m \u001b[1m171s\u001b[0m 1s/step - accuracy: 0.9681 - loss: 0.0955 - val_accuracy: 0.8973 - val_loss: 0.2973\n",
      "Epoch 3/20\n",
      "\u001b[1m145/145\u001b[0m \u001b[32m━━━━━━━━━━━━━━━━━━━━\u001b[0m\u001b[37m\u001b[0m \u001b[1m0s\u001b[0m 1s/step - accuracy: 0.9822 - loss: 0.0489\n",
      "Epoch 3: val_accuracy improved from 0.89728 to 0.92447, saving model to C:\\cv_partb\\outputs\\checkpoints\\modelB_phase2_best.keras\n",
      "\u001b[1m145/145\u001b[0m \u001b[32m━━━━━━━━━━━━━━━━━━━━\u001b[0m\u001b[37m\u001b[0m \u001b[1m169s\u001b[0m 1s/step - accuracy: 0.9821 - loss: 0.0489 - val_accuracy: 0.9245 - val_loss: 0.2570\n",
      "Epoch 4/20\n",
      "\u001b[1m145/145\u001b[0m \u001b[32m━━━━━━━━━━━━━━━━━━━━\u001b[0m\u001b[37m\u001b[0m \u001b[1m0s\u001b[0m 1s/step - accuracy: 0.9872 - loss: 0.0344\n",
      "Epoch 4: val_accuracy improved from 0.92447 to 0.93756, saving model to C:\\cv_partb\\outputs\\checkpoints\\modelB_phase2_best.keras\n",
      "\u001b[1m145/145\u001b[0m \u001b[32m━━━━━━━━━━━━━━━━━━━━\u001b[0m\u001b[37m\u001b[0m \u001b[1m180s\u001b[0m 1s/step - accuracy: 0.9871 - loss: 0.0353 - val_accuracy: 0.9376 - val_loss: 0.2554\n",
      "Epoch 5/20\n",
      "\u001b[1m145/145\u001b[0m \u001b[32m━━━━━━━━━━━━━━━━━━━━\u001b[0m\u001b[37m\u001b[0m \u001b[1m0s\u001b[0m 1s/step - accuracy: 0.9912 - loss: 0.0272\n",
      "Epoch 5: val_accuracy improved from 0.93756 to 0.96878, saving model to C:\\cv_partb\\outputs\\checkpoints\\modelB_phase2_best.keras\n",
      "\u001b[1m145/145\u001b[0m \u001b[32m━━━━━━━━━━━━━━━━━━━━\u001b[0m\u001b[37m\u001b[0m \u001b[1m170s\u001b[0m 1s/step - accuracy: 0.9925 - loss: 0.0212 - val_accuracy: 0.9688 - val_loss: 0.1042\n",
      "Epoch 6/20\n",
      "\u001b[1m145/145\u001b[0m \u001b[32m━━━━━━━━━━━━━━━━━━━━\u001b[0m\u001b[37m\u001b[0m \u001b[1m0s\u001b[0m 1s/step - accuracy: 0.9956 - loss: 0.0167\n",
      "Epoch 6: val_accuracy did not improve from 0.96878\n",
      "\u001b[1m145/145\u001b[0m \u001b[32m━━━━━━━━━━━━━━━━━━━━\u001b[0m\u001b[37m\u001b[0m \u001b[1m168s\u001b[0m 1s/step - accuracy: 0.9948 - loss: 0.0175 - val_accuracy: 0.9557 - val_loss: 0.1740\n",
      "Epoch 7/20\n",
      "\u001b[1m145/145\u001b[0m \u001b[32m━━━━━━━━━━━━━━━━━━━━\u001b[0m\u001b[37m\u001b[0m \u001b[1m0s\u001b[0m 1s/step - accuracy: 0.9952 - loss: 0.0149\n",
      "Epoch 7: val_accuracy did not improve from 0.96878\n",
      "\u001b[1m145/145\u001b[0m \u001b[32m━━━━━━━━━━━━━━━━━━━━\u001b[0m\u001b[37m\u001b[0m \u001b[1m169s\u001b[0m 1s/step - accuracy: 0.9946 - loss: 0.0152 - val_accuracy: 0.9547 - val_loss: 0.1398\n",
      "Epoch 8/20\n",
      "\u001b[1m145/145\u001b[0m \u001b[32m━━━━━━━━━━━━━━━━━━━━\u001b[0m\u001b[37m\u001b[0m \u001b[1m0s\u001b[0m 1s/step - accuracy: 0.9965 - loss: 0.0104\n",
      "Epoch 8: val_accuracy improved from 0.96878 to 0.97482, saving model to C:\\cv_partb\\outputs\\checkpoints\\modelB_phase2_best.keras\n",
      "\u001b[1m145/145\u001b[0m \u001b[32m━━━━━━━━━━━━━━━━━━━━\u001b[0m\u001b[37m\u001b[0m \u001b[1m177s\u001b[0m 1s/step - accuracy: 0.9968 - loss: 0.0102 - val_accuracy: 0.9748 - val_loss: 0.0805\n",
      "Epoch 9/20\n",
      "\u001b[1m145/145\u001b[0m \u001b[32m━━━━━━━━━━━━━━━━━━━━\u001b[0m\u001b[37m\u001b[0m \u001b[1m0s\u001b[0m 1s/step - accuracy: 0.9949 - loss: 0.0115\n",
      "Epoch 9: val_accuracy improved from 0.97482 to 0.98590, saving model to C:\\cv_partb\\outputs\\checkpoints\\modelB_phase2_best.keras\n",
      "\u001b[1m145/145\u001b[0m \u001b[32m━━━━━━━━━━━━━━━━━━━━\u001b[0m\u001b[37m\u001b[0m \u001b[1m179s\u001b[0m 1s/step - accuracy: 0.9946 - loss: 0.0131 - val_accuracy: 0.9859 - val_loss: 0.0609\n",
      "Epoch 10/20\n",
      "\u001b[1m145/145\u001b[0m \u001b[32m━━━━━━━━━━━━━━━━━━━━\u001b[0m\u001b[37m\u001b[0m \u001b[1m0s\u001b[0m 1s/step - accuracy: 0.9964 - loss: 0.0106\n",
      "Epoch 10: val_accuracy did not improve from 0.98590\n",
      "\u001b[1m145/145\u001b[0m \u001b[32m━━━━━━━━━━━━━━━━━━━━\u001b[0m\u001b[37m\u001b[0m \u001b[1m184s\u001b[0m 1s/step - accuracy: 0.9944 - loss: 0.0149 - val_accuracy: 0.9718 - val_loss: 0.1076\n",
      "Epoch 11/20\n",
      "\u001b[1m145/145\u001b[0m \u001b[32m━━━━━━━━━━━━━━━━━━━━\u001b[0m\u001b[37m\u001b[0m \u001b[1m0s\u001b[0m 1s/step - accuracy: 0.9931 - loss: 0.0210\n",
      "Epoch 11: val_accuracy did not improve from 0.98590\n",
      "\u001b[1m145/145\u001b[0m \u001b[32m━━━━━━━━━━━━━━━━━━━━\u001b[0m\u001b[37m\u001b[0m \u001b[1m169s\u001b[0m 1s/step - accuracy: 0.9940 - loss: 0.0184 - val_accuracy: 0.9789 - val_loss: 0.0807\n",
      "Epoch 12/20\n",
      "\u001b[1m145/145\u001b[0m \u001b[32m━━━━━━━━━━━━━━━━━━━━\u001b[0m\u001b[37m\u001b[0m \u001b[1m0s\u001b[0m 1s/step - accuracy: 0.9961 - loss: 0.0111\n",
      "Epoch 12: val_accuracy did not improve from 0.98590\n",
      "\u001b[1m145/145\u001b[0m \u001b[32m━━━━━━━━━━━━━━━━━━━━\u001b[0m\u001b[37m\u001b[0m \u001b[1m178s\u001b[0m 1s/step - accuracy: 0.9959 - loss: 0.0113 - val_accuracy: 0.9768 - val_loss: 0.0619\n",
      "Epoch 13/20\n",
      "\u001b[1m145/145\u001b[0m \u001b[32m━━━━━━━━━━━━━━━━━━━━\u001b[0m\u001b[37m\u001b[0m \u001b[1m0s\u001b[0m 1s/step - accuracy: 0.9957 - loss: 0.0159\n",
      "Epoch 13: val_accuracy did not improve from 0.98590\n",
      "\u001b[1m145/145\u001b[0m \u001b[32m━━━━━━━━━━━━━━━━━━━━\u001b[0m\u001b[37m\u001b[0m \u001b[1m178s\u001b[0m 1s/step - accuracy: 0.9963 - loss: 0.0117 - val_accuracy: 0.9859 - val_loss: 0.0543\n",
      "Epoch 14/20\n",
      "\u001b[1m145/145\u001b[0m \u001b[32m━━━━━━━━━━━━━━━━━━━━\u001b[0m\u001b[37m\u001b[0m \u001b[1m0s\u001b[0m 1s/step - accuracy: 0.9964 - loss: 0.0126\n",
      "Epoch 14: val_accuracy improved from 0.98590 to 0.98792, saving model to C:\\cv_partb\\outputs\\checkpoints\\modelB_phase2_best.keras\n",
      "\u001b[1m145/145\u001b[0m \u001b[32m━━━━━━━━━━━━━━━━━━━━\u001b[0m\u001b[37m\u001b[0m \u001b[1m176s\u001b[0m 1s/step - accuracy: 0.9972 - loss: 0.0084 - val_accuracy: 0.9879 - val_loss: 0.0478\n",
      "Epoch 15/20\n",
      "\u001b[1m145/145\u001b[0m \u001b[32m━━━━━━━━━━━━━━━━━━━━\u001b[0m\u001b[37m\u001b[0m \u001b[1m0s\u001b[0m 1s/step - accuracy: 0.9989 - loss: 0.0038\n",
      "Epoch 15: val_accuracy did not improve from 0.98792\n",
      "\u001b[1m145/145\u001b[0m \u001b[32m━━━━━━━━━━━━━━━━━━━━\u001b[0m\u001b[37m\u001b[0m \u001b[1m182s\u001b[0m 1s/step - accuracy: 0.9981 - loss: 0.0057 - val_accuracy: 0.9627 - val_loss: 0.1642\n",
      "Epoch 16/20\n",
      "\u001b[1m145/145\u001b[0m \u001b[32m━━━━━━━━━━━━━━━━━━━━\u001b[0m\u001b[37m\u001b[0m \u001b[1m0s\u001b[0m 1s/step - accuracy: 0.9959 - loss: 0.0085\n",
      "Epoch 16: val_accuracy did not improve from 0.98792\n",
      "\u001b[1m145/145\u001b[0m \u001b[32m━━━━━━━━━━━━━━━━━━━━\u001b[0m\u001b[37m\u001b[0m \u001b[1m183s\u001b[0m 1s/step - accuracy: 0.9963 - loss: 0.0093 - val_accuracy: 0.9043 - val_loss: 0.5059\n",
      "Epoch 17/20\n",
      "\u001b[1m145/145\u001b[0m \u001b[32m━━━━━━━━━━━━━━━━━━━━\u001b[0m\u001b[37m\u001b[0m \u001b[1m0s\u001b[0m 1s/step - accuracy: 0.9970 - loss: 0.0080\n",
      "Epoch 17: val_accuracy did not improve from 0.98792\n",
      "\u001b[1m145/145\u001b[0m \u001b[32m━━━━━━━━━━━━━━━━━━━━\u001b[0m\u001b[37m\u001b[0m \u001b[1m175s\u001b[0m 1s/step - accuracy: 0.9957 - loss: 0.0120 - val_accuracy: 0.9305 - val_loss: 0.2603\n",
      "Epoch 18/20\n",
      "\u001b[1m145/145\u001b[0m \u001b[32m━━━━━━━━━━━━━━━━━━━━\u001b[0m\u001b[37m\u001b[0m \u001b[1m0s\u001b[0m 1s/step - accuracy: 0.9988 - loss: 0.0077\n",
      "Epoch 18: val_accuracy did not improve from 0.98792\n",
      "\u001b[1m145/145\u001b[0m \u001b[32m━━━━━━━━━━━━━━━━━━━━\u001b[0m\u001b[37m\u001b[0m \u001b[1m179s\u001b[0m 1s/step - accuracy: 0.9983 - loss: 0.0092 - val_accuracy: 0.9869 - val_loss: 0.0456\n",
      "Epoch 19/20\n",
      "\u001b[1m145/145\u001b[0m \u001b[32m━━━━━━━━━━━━━━━━━━━━\u001b[0m\u001b[37m\u001b[0m \u001b[1m0s\u001b[0m 1s/step - accuracy: 0.9969 - loss: 0.0070\n",
      "Epoch 19: val_accuracy improved from 0.98792 to 0.99396, saving model to C:\\cv_partb\\outputs\\checkpoints\\modelB_phase2_best.keras\n",
      "\u001b[1m145/145\u001b[0m \u001b[32m━━━━━━━━━━━━━━━━━━━━\u001b[0m\u001b[37m\u001b[0m \u001b[1m173s\u001b[0m 1s/step - accuracy: 0.9972 - loss: 0.0072 - val_accuracy: 0.9940 - val_loss: 0.0210\n",
      "Epoch 20/20\n",
      "\u001b[1m145/145\u001b[0m \u001b[32m━━━━━━━━━━━━━━━━━━━━\u001b[0m\u001b[37m\u001b[0m \u001b[1m0s\u001b[0m 1s/step - accuracy: 0.9991 - loss: 0.0037\n",
      "Epoch 20: val_accuracy did not improve from 0.99396\n",
      "\u001b[1m145/145\u001b[0m \u001b[32m━━━━━━━━━━━━━━━━━━━━\u001b[0m\u001b[37m\u001b[0m \u001b[1m173s\u001b[0m 1s/step - accuracy: 0.9989 - loss: 0.0046 - val_accuracy: 0.9919 - val_loss: 0.0298\n"
     ]
    }
   ],
   "source": [
    "base.trainable = True\n",
    "N = 40\n",
    "for layer in base.layers[:-N]:\n",
    "    layer.trainable = False\n",
    "\n",
    "modelB.compile(\n",
    "    optimizer=keras.optimizers.Adam(1e-4),\n",
    "    loss=\"categorical_crossentropy\",\n",
    "    metrics=[\"accuracy\"]\n",
    ")\n",
    "\n",
    "ckptB2 = os.path.join(CKPT_DIR, \"modelB_phase2_best.keras\")\n",
    "callbacks2 = [\n",
    "    keras.callbacks.ModelCheckpoint(ckptB2, monitor=\"val_accuracy\", mode=\"max\",\n",
    "                                    save_best_only=True, verbose=1),\n",
    "    keras.callbacks.EarlyStopping(monitor=\"val_accuracy\", mode=\"max\",\n",
    "                                  patience=5, restore_best_weights=True),\n",
    "]\n",
    "hist2 = modelB.fit(\n",
    "    train_prep,\n",
    "    validation_data=val_prep,\n",
    "    epochs=20,\n",
    "    callbacks=callbacks2,\n",
    "    verbose=1\n",
    ")\n"
   ]
  },
  {
   "cell_type": "code",
   "execution_count": 7,
   "id": "81f2cd61-dbbe-4e3f-842c-89d58a7e37f6",
   "metadata": {},
   "outputs": [
    {
     "name": "stdout",
     "output_type": "stream",
     "text": [
      "                       precision    recall  f1-score   support\n",
      "\n",
      "Tomato_Bacterial_spot       1.00      0.99      1.00       320\n",
      "  Tomato_Early_blight       0.99      0.94      0.96       150\n",
      "   Tomato_Late_blight       0.97      0.99      0.98       287\n",
      "       Tomato_healthy       0.99      1.00      1.00       240\n",
      "\n",
      "             accuracy                           0.99       997\n",
      "            macro avg       0.99      0.98      0.98       997\n",
      "         weighted avg       0.99      0.99      0.99       997\n",
      "\n"
     ]
    },
    {
     "data": {
      "image/png": "[encoded data removed]",
      "text/plain": [
       "<Figure size 600x500 with 2 Axes>"
      ]
     },
     "metadata": {},
     "output_type": "display_data"
    }
   ],
   "source": [
    "bestB = tf.keras.models.load_model(ckptB2)\n",
    "\n",
    "y_trueB, y_predB = [], []\n",
    "for bx, by in test_prep:\n",
    "    probs = bestB.predict(bx, verbose=0)\n",
    "    y_predB.extend(np.argmax(probs, axis=1))\n",
    "    y_trueB.extend(np.argmax(by.numpy(), axis=1))\n",
    "\n",
    "print(classification_report(y_trueB, y_predB, target_names=class_names))\n",
    "\n",
    "cmB = confusion_matrix(y_trueB, y_predB)\n",
    "fig, ax = plt.subplots(figsize=(6,5))\n",
    "sns.heatmap(cmB, annot=True, fmt=\"d\",\n",
    "            xticklabels=class_names, yticklabels=class_names, ax=ax)\n",
    "ax.set_title(\"Model B — Confusion Matrix\")\n",
    "ax.set_xlabel(\"Predicted\"); ax.set_ylabel(\"True\")\n",
    "plt.tight_layout()\n",
    "fig.savefig(os.path.join(FIG_DIR, \"modelB_confusion_matrix.png\"), dpi=150)\n",
    "plt.show()\n",
    "\n",
    "reportB = classification_report(y_trueB, y_predB, target_names=class_names, output_dict=True)\n",
    "with open(os.path.join(MET_DIR, \"modelB_classification_report.json\"), \"w\") as f:\n",
    "    json.dump(reportB, f, indent=2)\n"
   ]
  },
  {
   "cell_type": "code",
   "execution_count": 1,
   "id": "f3f91c6e-1504-405f-9a64-bdd16f6056f0",
   "metadata": {},
   "outputs": [
    {
     "ename": "NameError",
     "evalue": "name 'train_ds' is not defined",
     "output_type": "error",
     "traceback": [
      "\u001b[1;31m---------------------------------------------------------------------------\u001b[0m",
      "\u001b[1;31mNameError\u001b[0m                                 Traceback (most recent call last)",
      "Cell \u001b[1;32mIn[1], line 2\u001b[0m\n\u001b[0;32m      1\u001b[0m \u001b[38;5;66;03m# Inspect one batch from the training dataset\u001b[39;00m\n\u001b[1;32m----> 2\u001b[0m \u001b[38;5;28;01mfor\u001b[39;00m bx, by \u001b[38;5;129;01min\u001b[39;00m \u001b[43mtrain_ds\u001b[49m\u001b[38;5;241m.\u001b[39mtake(\u001b[38;5;241m1\u001b[39m):\n\u001b[0;32m      3\u001b[0m     \u001b[38;5;28mprint\u001b[39m(\u001b[38;5;124m\"\u001b[39m\u001b[38;5;124mX shape:\u001b[39m\u001b[38;5;124m\"\u001b[39m, bx\u001b[38;5;241m.\u001b[39mshape, bx\u001b[38;5;241m.\u001b[39mdtype)\n\u001b[0;32m      4\u001b[0m     \u001b[38;5;28mprint\u001b[39m(\u001b[38;5;124m\"\u001b[39m\u001b[38;5;124mY shape:\u001b[39m\u001b[38;5;124m\"\u001b[39m, by\u001b[38;5;241m.\u001b[39mshape, by\u001b[38;5;241m.\u001b[39mdtype)\n",
      "\u001b[1;31mNameError\u001b[0m: name 'train_ds' is not defined"
     ]
    }
   ],
   "source": [
    "# Inspect one batch from the training dataset\n",
    "for bx, by in train_ds.take(1):\n",
    "    print(\"X shape:\", bx.shape, bx.dtype)\n",
    "    print(\"Y shape:\", by.shape, by.dtype)\n",
    "    # Peek at first 3 labels\n",
    "    print(\"First 3 labels:\\n\", by[:3].numpy())\n",
    "    break\n"
   ]
  },
  {
   "cell_type": "code",
   "execution_count": 2,
   "id": "8a1026b6-4486-4a54-ae24-6412e5c51a08",
   "metadata": {},
   "outputs": [
    {
     "ename": "NameError",
     "evalue": "name 'tf' is not defined",
     "output_type": "error",
     "traceback": [
      "\u001b[1;31m---------------------------------------------------------------------------\u001b[0m",
      "\u001b[1;31mNameError\u001b[0m                                 Traceback (most recent call last)",
      "Cell \u001b[1;32mIn[2], line 2\u001b[0m\n\u001b[0;32m      1\u001b[0m \u001b[38;5;66;03m# 1) Load (or rebuild) your MobileNetV2 model with 4-class head\u001b[39;00m\n\u001b[1;32m----> 2\u001b[0m base \u001b[38;5;241m=\u001b[39m \u001b[43mtf\u001b[49m\u001b[38;5;241m.\u001b[39mkeras\u001b[38;5;241m.\u001b[39mapplications\u001b[38;5;241m.\u001b[39mMobileNetV2(\n\u001b[0;32m      3\u001b[0m     input_shape\u001b[38;5;241m=\u001b[39m(\u001b[38;5;241m224\u001b[39m,\u001b[38;5;241m224\u001b[39m,\u001b[38;5;241m3\u001b[39m), include_top\u001b[38;5;241m=\u001b[39m\u001b[38;5;28;01mFalse\u001b[39;00m, weights\u001b[38;5;241m=\u001b[39m\u001b[38;5;124m\"\u001b[39m\u001b[38;5;124mimagenet\u001b[39m\u001b[38;5;124m\"\u001b[39m\n\u001b[0;32m      4\u001b[0m )\n\u001b[0;32m      5\u001b[0m base\u001b[38;5;241m.\u001b[39mtrainable \u001b[38;5;241m=\u001b[39m \u001b[38;5;28;01mFalse\u001b[39;00m  \u001b[38;5;66;03m# Phase 1\u001b[39;00m\n\u001b[0;32m      7\u001b[0m inp \u001b[38;5;241m=\u001b[39m tf\u001b[38;5;241m.\u001b[39mkeras\u001b[38;5;241m.\u001b[39mInput(shape\u001b[38;5;241m=\u001b[39m(\u001b[38;5;241m224\u001b[39m,\u001b[38;5;241m224\u001b[39m,\u001b[38;5;241m3\u001b[39m))\n",
      "\u001b[1;31mNameError\u001b[0m: name 'tf' is not defined"
     ]
    }
   ],
   "source": [
    "# 1) Load (or rebuild) your MobileNetV2 model with 4-class head\n",
    "base = tf.keras.applications.MobileNetV2(\n",
    "    input_shape=(224,224,3), include_top=False, weights=\"imagenet\"\n",
    ")\n",
    "base.trainable = False  # Phase 1\n",
    "\n",
    "inp = tf.keras.Input(shape=(224,224,3))\n",
    "x = tf.keras.layers.Rescaling(1./127.5, offset=-1.0)(inp)  # OPTIONAL: if you didn't preprocess in tf.data\n",
    "# If your tf.data pipeline already calls mobilenet_v2.preprocess_input, remove the Rescaling above.\n",
    "\n",
    "x = base(inp, training=False)\n",
    "x = tf.keras.layers.GlobalAveragePooling2D()(x)\n",
    "x = tf.keras.layers.Dropout(0.3)(x)\n",
    "out = tf.keras.layers.Dense(4, activation=\"softmax\")(x)\n",
    "model = tf.keras.Model(inp, out)\n",
    "\n",
    "# 2) Compile with the CORRECT loss (choose one that matches your labels!)\n",
    "model.compile(\n",
    "    optimizer=tf.keras.optimizers.Adam(1e-3),\n",
    "    loss=\"categorical_crossentropy\",   # <-- use this if labels are one-hot\n",
    "    metrics=[\"accuracy\"]\n",
    ")\n",
    "\n",
    "# 3) Train Phase 1\n",
    "callbacks = [\n",
    "    tf.keras.callbacks.ModelCheckpoint(\"outputs/checkpoints/modelB_phase1_fix.keras\",\n",
    "                                       monitor=\"val_accuracy\", mode=\"max\",\n",
    "                                       save_best_only=True, verbose=1),\n",
    "    tf.keras.callbacks.EarlyStopping(monitor=\"val_accuracy\", mode=\"max\",\n",
    "                                     patience=3, restore_best_weights=True)\n",
    "]\n",
    "hist1 = model.fit(train_ds, validation_data=val_ds, epochs=8, callbacks=callbacks)\n",
    "\n",
    "# 4) Phase 2: unfreeze some top layers and fine-tune with lower LR\n",
    "base.trainable = True\n",
    "for layer in base.layers[:-40]:  # unfreeze last ~40 layers; adjust if needed\n",
    "    layer.trainable = False\n",
    "\n",
    "model.compile(\n",
    "    optimizer=tf.keras.optimizers.Adam(1e-4),\n",
    "    loss=\"categorical_crossentropy\",   # or sparse_categorical_crossentropy if labels are ints\n",
    "    metrics=[\"accuracy\"]\n",
    ")\n",
    "callbacks2 = [\n",
    "    tf.keras.callbacks.ModelCheckpoint(\"outputs/checkpoints/modelB_phase2_fix.keras\",\n",
    "                                       monitor=\"val_accuracy\", mode=\"max\",\n",
    "                                       save_best_only=True, verbose=1),\n",
    "    tf.keras.callbacks.EarlyStopping(monitor=\"val_accuracy\", mode=\"max\",\n",
    "                                     patience=4, restore_best_weights=True)\n",
    "]\n",
    "hist2 = model.fit(train_ds, validation_data=val_ds, epochs=10, callbacks=callbacks2)\n",
    "\n",
    "# 5) Save the final fixed model used by Streamlit\n",
    "model.save(\"outputs/checkpoints/modelB_phase2_best.keras\")\n"
   ]
  },
  {
   "cell_type": "code",
   "execution_count": null,
   "id": "ea945818-bd5e-4af6-8072-204c5344e0fe",
   "metadata": {},
   "outputs": [],
   "source": []
  }
 ],
 "metadata": {
  "kernelspec": {
   "display_name": "Python 3 (ipykernel)",
   "language": "python",
   "name": "python3"
  },
  "language_info": {
   "codemirror_mode": {
    "name": "ipython",
    "version": 3
   },
   "file_extension": ".py",
   "mimetype": "text/x-python",
   "name": "python",
   "nbconvert_exporter": "python",
   "pygments_lexer": "ipython3",
   "version": "3.10.18"
  }
 },
 "nbformat": 4,
 "nbformat_minor": 5
}
